{
 "cells": [
  {
   "cell_type": "code",
   "execution_count": 20,
   "metadata": {},
   "outputs": [],
   "source": [
    "#  1. Data creation\n",
    "import sqlite3\n",
    "\n",
    "with sqlite3.connect('roster.db') as con:\n",
    "    cursor = con.cursor()\n",
    "    query = \"\"\"\n",
    "        Create table Rosters(\n",
    "            Name text,\n",
    "            Species text,\n",
    "            Age int\n",
    "        )\n",
    "    \"\"\" \n",
    "    cursor.execute(query)\n"
   ]
  },
  {
   "cell_type": "code",
   "execution_count": 21,
   "metadata": {},
   "outputs": [],
   "source": [
    "# 2_task Insert data\n",
    "population = (\n",
    "    ('Benjamin Sisko', 'Human', 40),\n",
    "    ('Jadzia Dax', 'Trill', 300),\n",
    "    ('Kira Nerys',\t'Bajoran',\t29)\n",
    ")\n",
    "with sqlite3.connect(\"roster.db\") as con:\n",
    "    cursor = con.cursor()\n",
    "    place_holder = \", \".join([\"?\"] * 3)\n",
    "    cursor.executemany(\"Insert into Rosters Values({place_holder})\", population)"
   ]
  },
  {
   "cell_type": "code",
   "execution_count": null,
   "metadata": {},
   "outputs": [],
   "source": [
    "# 3. Update\n",
    "with sqlite3.connect('roster.db') as con:\n",
    "    cursor = con.cursor()\n",
    "    cursor.execute(\"\"\"\n",
    "        UPDATE Rosters\n",
    "        SET Name = Ezri Dax\n",
    "        WHERE Name = Jadzia Dax\n",
    "    \"\"\")\n"
   ]
  },
  {
   "cell_type": "code",
   "execution_count": null,
   "metadata": {},
   "outputs": [],
   "source": [
    "# 4. Query Data\n",
    "with sqlite3.connect('roster.db') as con:\n",
    "    cursor = con.cursor()\n",
    "    data = cursor.execute(\"SELECT Name, Age FROM Rosters WHERE Species = 'Bajoran'\")\n",
    "    data.fetchall()\n",
    "print(data)\n",
    "    "
   ]
  },
  {
   "cell_type": "code",
   "execution_count": 22,
   "metadata": {},
   "outputs": [],
   "source": [
    "# 5. Delete data\n",
    "with sqlite3.connect('roster.db') as con:\n",
    "    cursor = con.cursor()\n",
    "    cursor.execute(\"DELETE FROM Rosters WHERE Age > 100\")"
   ]
  },
  {
   "cell_type": "code",
   "execution_count": null,
   "metadata": {},
   "outputs": [],
   "source": [
    "# 6. Bonus Task\n",
    "with sqlite3.connect(\"roster.db\") as con:\n",
    "    cursor = con.cursor()\n",
    "    cursor.execute(\"ALTER TABLE Rosters ADD COLUMN Rank text\")\n",
    "\n",
    "rank = [\n",
    "    ('Captain', 'Benjamin Sisko'),\n",
    "    ('Lieutenant', 'Ezri Dax'),\n",
    "    ('Major', 'Kira Nerys')\n",
    "]\n",
    "\n",
    "with sqlite3.connect(\"roster.db\") as con:\n",
    "    cursor = con.cursor()\n",
    "    cursor.executemany(\"UPDATE Rosters SET Rank = ? WHERE Name = ?\", rank)\n"
   ]
  },
  {
   "cell_type": "code",
   "execution_count": null,
   "metadata": {},
   "outputs": [],
   "source": [
    "# 7. Advanced Query\n",
    "with sqlite3.connect(\"roster.db\") as con:\n",
    "    cursor = con.cursor()\n",
    "    cursor.execute(\"Select * From Rosters order by Age desc\")"
   ]
  }
 ],
 "metadata": {
  "kernelspec": {
   "display_name": "Python 3",
   "language": "python",
   "name": "python3"
  },
  "language_info": {
   "codemirror_mode": {
    "name": "ipython",
    "version": 3
   },
   "file_extension": ".py",
   "mimetype": "text/x-python",
   "name": "python",
   "nbconvert_exporter": "python",
   "pygments_lexer": "ipython3",
   "version": "3.11.4"
  },
  "orig_nbformat": 4
 },
 "nbformat": 4,
 "nbformat_minor": 2
}
