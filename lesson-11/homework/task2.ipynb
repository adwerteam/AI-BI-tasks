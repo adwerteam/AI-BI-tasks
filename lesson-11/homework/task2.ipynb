{
 "cells": [
  {
   "cell_type": "code",
   "execution_count": 1,
   "metadata": {},
   "outputs": [],
   "source": [
    "#  1. Data creation\n",
    "import sqlite3\n",
    "\n",
    "with sqlite3.connect('library.db') as con:\n",
    "    cursor = con.cursor()\n",
    "    query = \"\"\"\n",
    "        Create table Library(\n",
    "            Title text,\n",
    "            Author text,\n",
    "            Year_Published int,\n",
    "            Genre text\n",
    "        )\n",
    "    \"\"\" \n",
    "    cursor.execute(query)"
   ]
  },
  {
   "cell_type": "code",
   "execution_count": null,
   "metadata": {},
   "outputs": [],
   "source": [
    "# 2_task Insert data\n",
    "books = (\n",
    "    ('To Kill a Mockingbird', 'Harper Lee', 1960, 'Fiction'),\n",
    "    ('1984','George Orwell', 1949, 'Dystopian'),\n",
    "    ('The Great Gatsby','F. Scott Fitzgerald', 1925, 'Classic')\n",
    ")\n",
    "with sqlite3.connect(\"library.db\") as con:\n",
    "    cursor = con.cursor()\n",
    "    place_holder = \", \".join([\"?\"] * 4)\n",
    "    cursor.executemany(\"Insert into Library Values({place_holder})\", books)\n"
   ]
  },
  {
   "cell_type": "code",
   "execution_count": null,
   "metadata": {},
   "outputs": [],
   "source": [
    "# 3. Update\n",
    "with sqlite3.connect(\"library.db\") as con:\n",
    "    cursor = con.cursor()\n",
    "    cursor.execute(\"\"\"\n",
    "        UPDATE Library\n",
    "        SET Year_Published = 1950\n",
    "        WHERE Title = 1984\n",
    "    \"\"\")"
   ]
  },
  {
   "cell_type": "code",
   "execution_count": null,
   "metadata": {},
   "outputs": [],
   "source": [
    "# 4. Query Data\n",
    "with sqlite3.connect(\"library.db\") as con:\n",
    "    cursor = con.cursor()\n",
    "    data = cursor.execute(\"SELECT Title, Author  FROM Library WHERE Genre = 'Dystopian'\")\n",
    "    data.fetchall()\n",
    "print(data)"
   ]
  },
  {
   "cell_type": "code",
   "execution_count": null,
   "metadata": {},
   "outputs": [],
   "source": [
    "# 5. Delete data\n",
    "with sqlite3.connect(\"library.db\") as con:\n",
    "    cursor = con.cursor()\n",
    "    cursor.execute(\"DELETE FROM Library WHERE Year_Published < 1950\")"
   ]
  },
  {
   "cell_type": "code",
   "execution_count": null,
   "metadata": {},
   "outputs": [],
   "source": [
    "# 6. Bonus Task\n",
    "with sqlite3.connect(\"library.db\") as con:\n",
    "    cursor = con.cursor()\n",
    "    cursor.execute(\"ALTER TABLE Library ADD COLUMN Rating Real\")\n",
    "    \n",
    "ratings = [\n",
    "    (4.8, 'To Kill a Mockingbird'),\n",
    "    (4.7, '1984'),\n",
    "    (4.5, 'The Great Gatsby')\n",
    "]\n",
    "\n",
    "with sqlite3.connect(\"library.db\") as con:\n",
    "    cursor = con.cursor()\n",
    "    cursor.executemany(\"UPDATE Library SET Rating = ? WHERE Title = ?\", ratings)"
   ]
  },
  {
   "cell_type": "code",
   "execution_count": null,
   "metadata": {},
   "outputs": [],
   "source": [
    "# 7. Advanced Query\n",
    "with sqlite3.connect(\"library.db\") as con:\n",
    "    cursor = con.cursor()\n",
    "    cursor.execute(\"Select * From Library order by Year_Published asc\")\n",
    "    "
   ]
  }
 ],
 "metadata": {
  "kernelspec": {
   "display_name": "Python 3",
   "language": "python",
   "name": "python3"
  },
  "language_info": {
   "codemirror_mode": {
    "name": "ipython",
    "version": 3
   },
   "file_extension": ".py",
   "mimetype": "text/x-python",
   "name": "python",
   "nbconvert_exporter": "python",
   "pygments_lexer": "ipython3",
   "version": "3.11.4"
  },
  "orig_nbformat": 4
 },
 "nbformat": 4,
 "nbformat_minor": 2
}
